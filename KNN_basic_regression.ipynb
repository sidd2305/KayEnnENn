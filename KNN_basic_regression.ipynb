{
  "cells": [
    {
      "cell_type": "markdown",
      "metadata": {
        "id": "-aA-Wa--2NKi"
      },
      "source": [
        "\n",
        "Simple Regression Program for finding Height if Weight is entered using KNN\n"
      ]
    },
    {
      "cell_type": "code",
      "execution_count": 117,
      "metadata": {
        "id": "SjxTdSLVtqmh"
      },
      "outputs": [],
      "source": [
        "import numpy as np\n",
        "import math"
      ]
    },
    {
      "cell_type": "code",
      "execution_count": 133,
      "metadata": {
        "id": "pTooV1WXqvAL"
      },
      "outputs": [],
      "source": [
        "weights =[63, 65, 68, 70, 72, 61, 66, 69, 71, 73,11.6, 14.1, 16.2, 18.5, 20.8, 23.6, 26.6, 30.0, 33.8, 37.6, 42.1, 47.1, 52.4, 57.3, 61.5, 65.2, 67.0, 77.0, 69.2, 71.8, 74.7, 76.2, 77.4, 78.6, 79.0, 79.3, 79.3, 79.2, 78.8, 77.4, 74.0]\n",
        "heights = [128, 156, 170, 180, 192, 112, 140, 160, 175, 200,83.0, 93.0, 101.0, 108.0, 115.0, 122.0, 128.0, 133.0, 139.0, 144.0, 150.0, 156.0, 162.0, 167.0, 171.0, 173.0, 174.0, 172.0, 175.0, 175.0, 175.0, 174.0, 174.0, 174.0, 174.0, 173.0, 172.0, 171.0, 170.0, 170.0, 167.0]"
      ]
    },
    {
      "cell_type": "code",
      "execution_count": 147,
      "metadata": {
        "colab": {
          "base_uri": "https://localhost:8080/"
        },
        "id": "Qq8xYsilu9kD",
        "outputId": "2fd7af4b-97c8-4222-9df5-12f6992b778c"
      },
      "outputs": [
        {
          "name": "stdout",
          "output_type": "stream",
          "text": [
            "enter your weight72\n"
          ]
        }
      ],
      "source": [
        "x=int(input(\"enter your weight\"))"
      ]
    },
    {
      "cell_type": "code",
      "execution_count": 148,
      "metadata": {
        "id": "BpzLvwPStsyG"
      },
      "outputs": [],
      "source": [
        "a = [0]*10\n",
        "for i in range (10):\n",
        "  a[i]=(weights[i],(x-weights[i])**0.5)"
      ]
    },
    {
      "cell_type": "code",
      "execution_count": 149,
      "metadata": {
        "colab": {
          "base_uri": "https://localhost:8080/"
        },
        "id": "TxcYD_HwwiCf",
        "outputId": "6a579cd1-a377-42c0-be47-2c12aaa30467"
      },
      "outputs": [
        {
          "name": "stdout",
          "output_type": "stream",
          "text": [
            "enter k value3\n"
          ]
        }
      ],
      "source": [
        "k=int(input(\"enter k value\"))"
      ]
    },
    {
      "cell_type": "code",
      "execution_count": 150,
      "metadata": {
        "id": "9XshJdEXyT4E"
      },
      "outputs": [],
      "source": [
        "a = sorted(a, key=lambda x: x[1].real)"
      ]
    },
    {
      "cell_type": "code",
      "execution_count": 151,
      "metadata": {
        "colab": {
          "base_uri": "https://localhost:8080/"
        },
        "id": "Si1YVp8iyYYZ",
        "outputId": "17a1a1a4-84e3-4cb2-a16d-d0d331c305a5"
      },
      "outputs": [
        {
          "name": "stdout",
          "output_type": "stream",
          "text": [
            "(72, 0.0)\n",
            "(73, (6.123233995736766e-17+1j))\n",
            "(71, 1.0)\n",
            "(70, 1.4142135623730951)\n",
            "(69, 1.7320508075688772)\n",
            "(68, 2.0)\n",
            "(66, 2.449489742783178)\n",
            "(65, 2.6457513110645907)\n",
            "(63, 3.0)\n",
            "(61, 3.3166247903554)\n"
          ]
        }
      ],
      "source": [
        "for i in range(len(a)):\n",
        "  print(a[i])"
      ]
    },
    {
      "cell_type": "code",
      "execution_count": 152,
      "metadata": {
        "id": "ajL318tPyj81"
      },
      "outputs": [],
      "source": [
        "a_new=[0]*k\n",
        "for i in range(k):\n",
        "  a_new[i]=a[i]"
      ]
    },
    {
      "cell_type": "code",
      "execution_count": 153,
      "metadata": {
        "colab": {
          "base_uri": "https://localhost:8080/"
        },
        "id": "Q20gyHiLyoKc",
        "outputId": "7341898b-b060-4317-b597-a9598367e0cd"
      },
      "outputs": [
        {
          "name": "stdout",
          "output_type": "stream",
          "text": [
            "(72, 0.0)\n",
            "(73, (6.123233995736766e-17+1j))\n",
            "(71, 1.0)\n"
          ]
        }
      ],
      "source": [
        "for i in range(len(a_new)):\n",
        "  print(a_new[i])"
      ]
    },
    {
      "cell_type": "code",
      "execution_count": 154,
      "metadata": {
        "id": "lWeAXOAw0o3V"
      },
      "outputs": [],
      "source": [
        "heightsindex=[0]*k\n",
        "heightvalue=[0]*k"
      ]
    },
    {
      "cell_type": "code",
      "execution_count": 155,
      "metadata": {
        "id": "1-hcyQiX01o7"
      },
      "outputs": [],
      "source": [
        "for i in range(k):\n",
        "  heightsindex[i]=weights.index(a_new[i][0])"
      ]
    },
    {
      "cell_type": "code",
      "execution_count": 156,
      "metadata": {
        "id": "Yqs0kWJO1cTL"
      },
      "outputs": [],
      "source": [
        "for i in range(k):\n",
        "  heightvalue[i]=heights[heightsindex[i]]"
      ]
    },
    {
      "cell_type": "code",
      "execution_count": 157,
      "metadata": {
        "id": "4agegWlh1uE5"
      },
      "outputs": [],
      "source": [
        "sum=0\n",
        "for i in range(k):\n",
        "  sum=sum+heightvalue[i]\n",
        "sumfinal=sum/k"
      ]
    },
    {
      "cell_type": "code",
      "execution_count": 158,
      "metadata": {
        "colab": {
          "base_uri": "https://localhost:8080/"
        },
        "id": "VBJlzheM16Jh",
        "outputId": "35804d37-da11-418b-a52d-ce3a92eb999e"
      },
      "outputs": [
        {
          "name": "stdout",
          "output_type": "stream",
          "text": [
            "Your height is 189.0 cm\n"
          ]
        }
      ],
      "source": [
        "print(\"Your height is\",sumfinal,\"cm\")"
      ]
    },
    {
      "cell_type": "code",
      "execution_count": 67,
      "metadata": {
        "id": "OphmtgvO0LRM"
      },
      "outputs": [],
      "source": []
    }
  ],
  "metadata": {
    "colab": {
      "provenance": []
    },
    "kernelspec": {
      "display_name": "Python 3",
      "name": "python3"
    },
    "language_info": {
      "name": "python"
    }
  },
  "nbformat": 4,
  "nbformat_minor": 0
}
